{
 "cells": [
  {
   "cell_type": "code",
   "execution_count": 1,
   "id": "5840d59d",
   "metadata": {},
   "outputs": [],
   "source": [
    "from nba_api.stats.static import teams\n",
    "from nba_api.stats.endpoints import teamplayerdashboard, playercareerstats\n",
    "import json\n",
    "\n",
    "import pandas as pd\n",
    "import numpy as np\n",
    "from tensorflow.keras.models import load_model\n",
    "from pickle import load\n",
    "\n",
    "fileName = \"history_dataset.csv\"\n",
    "modelName = \"modelNBATrained_50.h5\"\n",
    "random_state = 42"
   ]
  },
  {
   "cell_type": "code",
   "execution_count": 2,
   "id": "f8c8a72a",
   "metadata": {},
   "outputs": [
    {
     "name": "stdout",
     "output_type": "stream",
     "text": [
      "1610612747\n",
      "[1641788, 203076, 1630559, 1629629, 1626174, 1630658, 1626156, 1641793, 1629685, 1629216, 1628385, 1641720, 1629020, 1629637, 2544, 1631108, 1641721, 1629060, 1630219, 203915, 1627752]\n",
      "\n",
      "1610612741\n",
      "[1641766, 1627936, 203083, 1641847, 1630245, 1629632, 1631207, 201942, 1630929, 1629750, 1628975, 1641763, 202696, 1641931, 1630172, 1630678, 1628470, 203897]\n",
      "\n"
     ]
    }
   ],
   "source": [
    "teams_query = ['Los Angeles Lakers', 'Chicago Bulls']\n",
    "current_season = '2023-24'\n",
    "selected_columns = ['GP', 'GS', 'MIN', 'FG_PCT', 'FG3_PCT', 'FT_PCT', 'OREB', 'DREB', 'REB', 'AST', 'STL', 'BLK', 'TOV', 'PF', 'PTS']\n",
    "num_stats = len(selected_columns)\n",
    "\n",
    "home_team = teams_query[0]\n",
    "away_team = teams_query[1]\n",
    "teams_query= [home_team, away_team]\n",
    "season = current_season\n",
    "\n",
    "array_1 = np.array([0.0] * num_stats)\n",
    "array_2 = np.array([0.0] * num_stats)\n",
    "teams_stats = [array_1, array_2]\n",
    "\n",
    "for idx, team in enumerate(teams_query):\n",
    "    t1 = teams.find_teams_by_full_name(team)\n",
    "    team_id = t1[0]['id']\n",
    "    print(team_id)\n",
    "\n",
    "    t = teamplayerdashboard.TeamPlayerDashboard(team_id=team_id, season=season)\n",
    "    data_player = json.loads(t.get_json())['resultSets']\n",
    "\n",
    "    players_data = next(item for item in data_player if item['name'] == 'PlayersSeasonTotals')['rowSet']\n",
    "    player_ids = [player[1] for player in players_data]\n",
    "    print(f\"{player_ids}\\n\")\n",
    "\n",
    "    for player_id in player_ids:\n",
    "        career = playercareerstats.PlayerCareerStats(player_id=player_id)\n",
    "        df_single_player_carrer = career.get_data_frames()[0]\n",
    "        last_row_stats = df_single_player_carrer[selected_columns].iloc[-1].tolist()\n",
    "        #print(f\"{last_row_stats}\")\n",
    "        teams_stats[idx] += np.array(last_row_stats)\n",
    "\n",
    "pred_df = pd.DataFrame()\n",
    "# Aggiungere le statistiche al DataFrame\n",
    "for j, stat in enumerate(selected_columns):\n",
    "    pred_df.loc[0, f'Home_Stat_{stat}'] = teams_stats[0][j]\n",
    "    pred_df.loc[0, f'Away_Stat_{stat}'] = teams_stats[1][j]\n"
   ]
  },
  {
   "cell_type": "code",
   "execution_count": 6,
   "id": "e11d9bab",
   "metadata": {},
   "outputs": [
    {
     "data": {
      "text/html": [
       "<div>\n",
       "<style scoped>\n",
       "    .dataframe tbody tr th:only-of-type {\n",
       "        vertical-align: middle;\n",
       "    }\n",
       "\n",
       "    .dataframe tbody tr th {\n",
       "        vertical-align: top;\n",
       "    }\n",
       "\n",
       "    .dataframe thead th {\n",
       "        text-align: right;\n",
       "    }\n",
       "</style>\n",
       "<table border=\"1\" class=\"dataframe\">\n",
       "  <thead>\n",
       "    <tr style=\"text-align: right;\">\n",
       "      <th></th>\n",
       "      <th>Home_Stat_GP</th>\n",
       "      <th>Away_Stat_GP</th>\n",
       "      <th>Home_Stat_GS</th>\n",
       "      <th>Away_Stat_GS</th>\n",
       "      <th>Home_Stat_MIN</th>\n",
       "      <th>Away_Stat_MIN</th>\n",
       "      <th>Home_Stat_FG_PCT</th>\n",
       "      <th>Away_Stat_FG_PCT</th>\n",
       "      <th>Home_Stat_FG3_PCT</th>\n",
       "      <th>Away_Stat_FG3_PCT</th>\n",
       "      <th>...</th>\n",
       "      <th>Home_Stat_STL</th>\n",
       "      <th>Away_Stat_STL</th>\n",
       "      <th>Home_Stat_BLK</th>\n",
       "      <th>Away_Stat_BLK</th>\n",
       "      <th>Home_Stat_TOV</th>\n",
       "      <th>Away_Stat_TOV</th>\n",
       "      <th>Home_Stat_PF</th>\n",
       "      <th>Away_Stat_PF</th>\n",
       "      <th>Home_Stat_PTS</th>\n",
       "      <th>Away_Stat_PTS</th>\n",
       "    </tr>\n",
       "  </thead>\n",
       "  <tbody>\n",
       "    <tr>\n",
       "      <th>0</th>\n",
       "      <td>964.0</td>\n",
       "      <td>833.0</td>\n",
       "      <td>463.0</td>\n",
       "      <td>410.0</td>\n",
       "      <td>21871.0</td>\n",
       "      <td>19981.0</td>\n",
       "      <td>9.299</td>\n",
       "      <td>7.907</td>\n",
       "      <td>5.705</td>\n",
       "      <td>5.027</td>\n",
       "      <td>...</td>\n",
       "      <td>663.0</td>\n",
       "      <td>638.0</td>\n",
       "      <td>468.0</td>\n",
       "      <td>394.0</td>\n",
       "      <td>1189.0</td>\n",
       "      <td>957.0</td>\n",
       "      <td>1409.0</td>\n",
       "      <td>1541.0</td>\n",
       "      <td>10512.0</td>\n",
       "      <td>9206.0</td>\n",
       "    </tr>\n",
       "  </tbody>\n",
       "</table>\n",
       "<p>1 rows × 30 columns</p>\n",
       "</div>"
      ],
      "text/plain": [
       "   Home_Stat_GP  Away_Stat_GP  Home_Stat_GS  Away_Stat_GS  Home_Stat_MIN  \\\n",
       "0         964.0         833.0         463.0         410.0        21871.0   \n",
       "\n",
       "   Away_Stat_MIN  Home_Stat_FG_PCT  Away_Stat_FG_PCT  Home_Stat_FG3_PCT  \\\n",
       "0        19981.0             9.299             7.907              5.705   \n",
       "\n",
       "   Away_Stat_FG3_PCT  ...  Home_Stat_STL  Away_Stat_STL  Home_Stat_BLK  \\\n",
       "0              5.027  ...          663.0          638.0          468.0   \n",
       "\n",
       "   Away_Stat_BLK  Home_Stat_TOV  Away_Stat_TOV  Home_Stat_PF  Away_Stat_PF  \\\n",
       "0          394.0         1189.0          957.0        1409.0        1541.0   \n",
       "\n",
       "   Home_Stat_PTS  Away_Stat_PTS  \n",
       "0        10512.0         9206.0  \n",
       "\n",
       "[1 rows x 30 columns]"
      ]
     },
     "execution_count": 6,
     "metadata": {},
     "output_type": "execute_result"
    }
   ],
   "source": []
  },
  {
   "cell_type": "code",
   "execution_count": null,
   "id": "3a105cfa",
   "metadata": {},
   "outputs": [],
   "source": []
  },
  {
   "cell_type": "code",
   "execution_count": 3,
   "id": "085a1838",
   "metadata": {},
   "outputs": [
    {
     "data": {
      "text/plain": [
       "array([[ 0.25186154, -0.73518555,  0.85616652,  0.16091684,  0.51792861,\n",
       "        -0.09900181, -0.21698811, -1.18077905, -0.69766453, -1.3106905 ,\n",
       "        -0.10022987, -1.15889776, -0.86982207,  0.23552377,  0.61213938,\n",
       "        -0.1845492 ,  0.22135555, -0.07423736,  1.00801439, -0.44304672,\n",
       "         0.31411035,  0.06705413,  0.53896805, -0.17793373,  0.64593153,\n",
       "        -0.60665253, -0.74232348, -0.19808104,  0.71776772, -0.12804863]])"
      ]
     },
     "execution_count": 3,
     "metadata": {},
     "output_type": "execute_result"
    }
   ],
   "source": [
    "with open('standardScaler_ready.pkl','rb') as f:\n",
    "    scaler = load(f)\n",
    "    \n",
    "X_std = scaler.transform(pred_df)\n",
    "X_std"
   ]
  },
  {
   "cell_type": "code",
   "execution_count": 4,
   "id": "b3bac718",
   "metadata": {},
   "outputs": [
    {
     "name": "stderr",
     "output_type": "stream",
     "text": [
      "WARNING:absl:Compiled the loaded model, but the compiled metrics have yet to be built. `model.compile_metrics` will be empty until you train or evaluate the model.\n"
     ]
    }
   ],
   "source": [
    "model = load_model(modelName)"
   ]
  },
  {
   "cell_type": "code",
   "execution_count": 5,
   "id": "5812249f",
   "metadata": {},
   "outputs": [
    {
     "name": "stdout",
     "output_type": "stream",
     "text": [
      "Ha vinto squadra Chicago Bulls\n"
     ]
    }
   ],
   "source": [
    "res_tensor = model(X_std)\n",
    "res_int = round(res_tensor.numpy().item())\n",
    "res_int\n",
    "if res_int == 1:\n",
    "    print(f\"Ha vinto la squadra: {teams_query[0]}\")\n",
    "else:\n",
    "    print(f\"Ha vinto la squadra: {teams_query[1]}\")"
   ]
  },
  {
   "cell_type": "code",
   "execution_count": null,
   "id": "871da980",
   "metadata": {},
   "outputs": [],
   "source": []
  }
 ],
 "metadata": {
  "kernelspec": {
   "display_name": "Python 3 (ipykernel)",
   "language": "python",
   "name": "python3"
  },
  "language_info": {
   "codemirror_mode": {
    "name": "ipython",
    "version": 3
   },
   "file_extension": ".py",
   "mimetype": "text/x-python",
   "name": "python",
   "nbconvert_exporter": "python",
   "pygments_lexer": "ipython3",
   "version": "3.11.5"
  }
 },
 "nbformat": 4,
 "nbformat_minor": 5
}

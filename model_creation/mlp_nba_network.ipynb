{
 "cells": [
  {
   "cell_type": "code",
   "execution_count": 2,
   "id": "3b432344",
   "metadata": {},
   "outputs": [],
   "source": [
    "from nba_api.stats.static import teams, players\n",
    "\n",
    "import pandas as pd\n",
    "import numpy as np\n",
    "import matplotlib.pyplot as plt\n",
    "import sklearn as sk\n",
    "import tensorflow.keras as tfk\n",
    "from scikeras.wrappers import KerasRegressor\n",
    "\n",
    "#import scikeras\n",
    "\n",
    "from tensorflow.keras.models import Sequential\n",
    "from tensorflow.keras.layers import Dense, Bidirectional, LSTM, Masking, Dropout\n",
    "from tensorflow.keras.callbacks import EarlyStopping, ModelCheckpoint\n",
    "from tensorflow.keras.optimizers import Adam\n",
    "from sklearn.linear_model import LogisticRegression\n",
    "from sklearn.model_selection import cross_val_score, KFold\n",
    "from sklearn.preprocessing import StandardScaler, MinMaxScaler\n",
    "from sklearn.metrics import mean_squared_error, classification_report\n",
    "from sklearn.model_selection import train_test_split, cross_val_score, GridSearchCV, StratifiedKFold\n",
    "\n",
    "fileName = \"history_dataset.csv\"\n",
    "\n",
    "\n",
    "random_state = 42 #42"
   ]
  },
  {
   "cell_type": "code",
   "execution_count": null,
   "id": "ed797552",
   "metadata": {},
   "outputs": [],
   "source": [
    "df = pd.read_csv(fileName)\n",
    "df = df.dropna()"
   ]
  },
  {
   "cell_type": "code",
   "execution_count": null,
   "id": "cb5c7422",
   "metadata": {},
   "outputs": [],
   "source": [
    "df"
   ]
  },
  {
   "cell_type": "code",
   "execution_count": null,
   "id": "7ccef8ca",
   "metadata": {},
   "outputs": [],
   "source": [
    "from pickle import dump , load\n",
    "df_mod = df.iloc[:, 5:]\n",
    "\n",
    "y = df_mod[['y']]\n",
    "X = df_mod.iloc[:, 1:]\n",
    "\n",
    "scaler = StandardScaler()\n",
    "X_std = scaler.fit_transform(X)\n",
    "X_std = pd.DataFrame(X_std, columns=X.columns)\n",
    "\n",
    "with open('standardScaler_ready.pkl','wb') as f:\n",
    "    dump(scaler, f)\n",
    "    \n",
    "# y\n",
    "X_std"
   ]
  },
  {
   "cell_type": "code",
   "execution_count": null,
   "id": "de286551",
   "metadata": {},
   "outputs": [],
   "source": [
    "Xtrain_std, Xtest_std, ytrain, ytest = train_test_split(X, y, train_size = 2/3, random_state=random_state)"
   ]
  },
  {
   "cell_type": "code",
   "execution_count": null,
   "id": "d3cfda00",
   "metadata": {},
   "outputs": [],
   "source": [
    "input_shape = (Xtrain_std.shape[1],)\n",
    "\n",
    "model = Sequential()\n",
    "model.add(Dense(512, activation='relu', input_shape=input_shape))\n",
    "model.add(Dense(512, activation='relu'))\n",
    "model.add(Dense(1, activation='sigmoid'))\n",
    "\n",
    "adam = Adam(learning_rate=0.001)\n",
    "\n",
    "model.compile(optimizer=adam, loss='binary_crossentropy', metrics=['accuracy'])\n",
    "model.summary()"
   ]
  },
  {
   "cell_type": "code",
   "execution_count": null,
   "id": "a4ffcb86",
   "metadata": {
    "scrolled": true
   },
   "outputs": [],
   "source": [
    "callbacks = [EarlyStopping(monitor='loss', patience=10, verbose=1, start_from_epoch=20, restore_best_weights=True)]# start_from_epoch=400, patience=20\n",
    "history = model.fit(Xtrain_std, ytrain, validation_split=0.25, epochs=32, batch_size=20, callbacks=callbacks, verbose=2)\n",
    "\n",
    "#history = model.fit(Xtrain_std, ytrain, validation_split=0.25, epochs=32, batch_size=20, verbose=2)"
   ]
  },
  {
   "cell_type": "code",
   "execution_count": null,
   "id": "599bc48a",
   "metadata": {},
   "outputs": [],
   "source": [
    "plt.figure(figsize=(15, 6))\n",
    "plt.plot(history.history['loss'])\n",
    "plt.plot(history.history['val_loss'])\n",
    "plt.title('model loss')\n",
    "plt.ylabel('loss')\n",
    "plt.xlabel('epoch')\n",
    "plt.legend(['train_loss', 'validation_loss'], loc='upper left')\n",
    "\n",
    "plt.show()"
   ]
  },
  {
   "cell_type": "code",
   "execution_count": null,
   "id": "7a820e9f",
   "metadata": {},
   "outputs": [],
   "source": [
    "#model.save('modelNBATrained_50.h5')"
   ]
  },
  {
   "cell_type": "code",
   "execution_count": null,
   "id": "c4e3ce33",
   "metadata": {},
   "outputs": [],
   "source": [
    "trainPred=model.predict(Xtrain_std)\n",
    "testPred=model.predict(Xtest_std)\n",
    "\n",
    "trainPred = (trainPred >= 0.5).astype(int)\n",
    "testPred = (testPred >= 0.5).astype(int)\n",
    "\n",
    "print(f\"Dim Xtest_keras:{len(Xtest_std)}\")\n",
    "trainScore = np.sqrt(mean_squared_error(ytrain, trainPred[:,0]))\n",
    "testScore = np.sqrt(mean_squared_error(ytest, testPred[:,0]))\n",
    "\n",
    "print(f\"Train score: {trainScore}\")\n",
    "print(f\"Test score: {testScore}\")"
   ]
  },
  {
   "cell_type": "code",
   "execution_count": null,
   "id": "a6cd20c3",
   "metadata": {},
   "outputs": [],
   "source": [
    "plt.figure(figsize=(15, 6))\n",
    "#print(f\"len trainPred: {len(trainPred)} \\tlen ytrain: {len(ytrain)}\")\n",
    "\n",
    "# Plot dei valori reali\n",
    "plt.scatter(range(len(ytrain)), ytrain, color='blue', label='Valori reali (ytrain)')\n",
    "\n",
    "# Plot dei valori predetti\n",
    "plt.scatter(range(len(trainPred)), trainPred, color='red', label='Valori predetti (trainPred)')\n",
    "\n",
    "# Impostazioni aggiuntive\n",
    "plt.xlabel('Numero Pillola')\n",
    "plt.ylabel('Volume')\n",
    "plt.title('Confronto TRAIN SET')\n",
    "plt.legend()\n",
    "\n",
    "# Imposta il range sull'asse y in base al range dei volumi noto\n",
    "#plt.ylim(10000, 15000)\n",
    "#plt.ylim(20000, 100000)\n",
    "#plt.ylim(15000, 50000)\n",
    "plt.xlim(1500, 1600)\n",
    "\n",
    "plt.show()"
   ]
  },
  {
   "cell_type": "code",
   "execution_count": null,
   "id": "e456f7ef",
   "metadata": {},
   "outputs": [],
   "source": [
    "plt.figure(figsize=(15, 6))\n",
    "\n",
    "# Plot dei valori reali\n",
    "plt.scatter(range(len(ytest)), ytest, color='blue', label='Valori reali (ytest)')\n",
    "\n",
    "# Plot dei valori predetti\n",
    "plt.scatter(range(len(testPred)), testPred, color='red', label='Valori predetti (testPred)')\n",
    "\n",
    "# Impostazioni aggiuntive\n",
    "plt.xlabel('Numero Pillola')\n",
    "plt.ylabel('Volume')\n",
    "plt.title('Confronto TEST SET')\n",
    "plt.legend()\n",
    "\n",
    "# Imposta il range sull'asse y in base al range dei volumi noto\n",
    "#plt.ylim(1000, 90000)\n",
    "#plt.ylim(10000, 18000)\n",
    "plt.xlim(0, 40)\n",
    "\n",
    "# Mostra il grafico\n",
    "plt.show()"
   ]
  },
  {
   "cell_type": "code",
   "execution_count": null,
   "id": "ab90db9b",
   "metadata": {},
   "outputs": [],
   "source": [
    "pd.set_option('display.max_rows', 200)\n",
    "pd.set_option('display.max_columns', 200)\n",
    "pd.set_option('display.width', 500)\n",
    "\n",
    "\n",
    "print(f\"ytrain: max: {ytrain.max()} \\tmin: {ytrain.min()} \\tmean: {ytrain.mean()}\")\n",
    "print(f\"ytest: max: {ytest.max()} \\tmin: {ytest.min()} \\tmean: {ytest.mean()}\")\n",
    "\n",
    "variance_ytest = ytest.values.var()\n",
    "print(f\"\\n\\nVariance ytest: \\t{variance_ytest}\")\n",
    "variance_testPred = np.var(testPred)\n",
    "print(f\"Variance testPred: \\t{variance_testPred}\")\n",
    "\n",
    "\n",
    "variance_ytrain = ytrain.values.var()\n",
    "print(f\"\\n\\nVariance ytrain:\\t{variance_ytrain}\")\n",
    "variance_trainPred = np.var(trainPred)\n",
    "print(f\"Variance trainPred:\\t{variance_trainPred}\")\n",
    "\n",
    "\n",
    "\n",
    "np.max(np.abs(ytest - testPred.flatten()))\n",
    "print(f\"\\n\\nytest:\")\n",
    "print(ytest)\n",
    "\n",
    "massima_differenza = float('-inf')\n",
    "valore_testPred = None\n",
    "valore_ytest = None\n",
    "\n",
    "# Itera entrambi gli array contemporaneamente\n",
    "ytest_df = pd.DataFrame(ytest)\n",
    "ytest_df.columns= [\"y\"]\n",
    "for val_pred, val_ytest in zip(testPred, ytest_df['y']):\n",
    "    differenza = abs(val_pred - val_ytest)\n",
    "    \n",
    "    # Aggiorna differenza massima e valori corrispondenti se la differenza corrente > massima\n",
    "    if differenza > massima_differenza:\n",
    "        massima_differenza = differenza\n",
    "        valore_testPred = val_pred\n",
    "        valore_ytest = val_ytest\n",
    "\n",
    "print(f\"\\n\\nV_testPred: {valore_testPred}, V_ytest: {valore_ytest}, diff maxima: {massima_differenza}\")"
   ]
  },
  {
   "cell_type": "code",
   "execution_count": null,
   "id": "567b2286",
   "metadata": {},
   "outputs": [],
   "source": []
  }
 ],
 "metadata": {
  "kernelspec": {
   "display_name": "Python 3 (ipykernel)",
   "language": "python",
   "name": "python3"
  },
  "language_info": {
   "codemirror_mode": {
    "name": "ipython",
    "version": 3
   },
   "file_extension": ".py",
   "mimetype": "text/x-python",
   "name": "python",
   "nbconvert_exporter": "python",
   "pygments_lexer": "ipython3",
   "version": "3.11.5"
  }
 },
 "nbformat": 4,
 "nbformat_minor": 5
}
